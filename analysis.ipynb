{
 "cells": [
  {
   "cell_type": "markdown",
   "metadata": {
    "pycharm": {
     "name": "#%% md\n"
    }
   },
   "source": [
    "# Classification problem of severe COVID-19 patients"
   ]
  },
  {
   "cell_type": "markdown",
   "metadata": {
    "pycharm": {
     "name": "#%% md\n"
    }
   },
   "source": [
    "## Library import"
   ]
  },
  {
   "cell_type": "code",
   "execution_count": 1,
   "outputs": [],
   "source": [
    "%matplotlib inline\n",
    "\n",
    "import pandas as pd\n",
    "import seaborn as sns\n",
    "import numpy as np\n",
    "from matplotlib import pyplot as plt\n",
    "from scipy import stats\n",
    "\n",
    "from sklearn.model_selection import train_test_split\n",
    "from sklearn.impute import KNNImputer"
   ],
   "metadata": {
    "collapsed": false,
    "pycharm": {
     "name": "#%%\n"
    }
   }
  },
  {
   "cell_type": "code",
   "execution_count": 2,
   "outputs": [
    {
     "name": "stderr",
     "output_type": "stream",
     "text": [
      "/var/folders/_x/7g92tfc16q71k_8vzcrkkgs80000gn/T/ipykernel_43915/2219049530.py:2: DtypeWarning: Columns (259) have mixed types. Specify dtype option on import or set low_memory=False.\n",
      "  variants = pd.read_csv(INPUT_MAESTRO_DATA, sep='\\t', low_memory=True)\n"
     ]
    }
   ],
   "source": [
    "INPUT_MAESTRO_DATA = \"data/MAESTRO-d6178bdd-identified_variants_merged_protein_regions-main.tsv\"\n",
    "variants = pd.read_csv(INPUT_MAESTRO_DATA, sep='\\t', low_memory=True)"
   ],
   "metadata": {
    "collapsed": false,
    "pycharm": {
     "name": "#%%\n"
    }
   }
  },
  {
   "cell_type": "code",
   "execution_count": 3,
   "outputs": [
    {
     "data": {
      "text/plain": "   rowid  ccms_row_id   Algorithm      Filename  Cluster_index   \n0      1            1      .MODA.  specs_ms.mgf         960991  \\\n1      2            2      .MODA.  specs_ms.mgf         763982   \n2      3            3  .MSGFPLUS.  specs_ms.mgf         902201   \n3      4            4  .MSGFPLUS.  specs_ms.mgf         935503   \n4      5            5      .MODA.  specs_ms.mgf         297961   \n\n                                         Peptide       Unmodified_sequence   \n0  K.[304.207]GARLIPEMDQIFTEVEMTTLE(K,304.207).V  .GARLIPEMDQIFTEVEMTTLEK.  \\\n1             I.[304.207]FTEVEMTTLE(K,304.207).V             .FTEVEMTTLEK.   \n2                   K.[304.207]LYQPEYQEVSTEEQR.E         .LYQPEYQEVSTEEQR.   \n3         K.[304.207]AANSLEAFIFETQD(K,304.207).L         .AANSLEAFIFETQDK.   \n4                R.[304.207]YSHDF(N,-56.985)FH.I                .YSHDFNFH.   \n\n   Charge  _dyn_#Intensity_for_cluster   \n0       4                    36.905893  \\\n1       3                    11.686782   \n2       3                    15.690234   \n3       3                    15.016824   \n4       3                    33.768015   \n\n   _dyn_#Intensity_for_unmodified_sequence  ...  PSP_site_match   \n0                                36.905893  ...             NaN  \\\n1                                11.686782  ...             NaN   \n2                                15.690234  ...             NaN   \n3                                15.016824  ...             NaN   \n4                                33.768015  ...             NaN   \n\n   DrugBank_drugs  Parent_mass  Num_PSP_Drugbank_events  Start_AA_1_based   \n0             NaN      1580.81                        0               NaN  \\\n1             NaN      1934.91                        0               NaN   \n2             NaN      2203.09                        0               NaN   \n3             NaN      2292.24                        0               NaN   \n4             NaN      1313.66                        0               NaN   \n\n   End_AA_1_based  Num_spectra_for_cluster   \n0             NaN                        1  \\\n1             NaN                        1   \n2             NaN                        5   \n3             NaN                        3   \n4             NaN                        3   \n\n   Num_spectra_for_unmodified_sequence  Num_spectra_for_peptide_variant   \n0                                    1                                1  \\\n1                                    2                                2   \n2                                    6                                6   \n3                                    4                                4   \n4                                    3                                3   \n\n   Internal_ref_orig_intensity  \n0                 8.204159e+03  \n1                 4.936894e+05  \n2                 1.951566e+05  \n3                 2.877781e+06  \n4                 7.088440e+04  \n\n[5 rows x 268 columns]",
      "text/html": "<div>\n<style scoped>\n    .dataframe tbody tr th:only-of-type {\n        vertical-align: middle;\n    }\n\n    .dataframe tbody tr th {\n        vertical-align: top;\n    }\n\n    .dataframe thead th {\n        text-align: right;\n    }\n</style>\n<table border=\"1\" class=\"dataframe\">\n  <thead>\n    <tr style=\"text-align: right;\">\n      <th></th>\n      <th>rowid</th>\n      <th>ccms_row_id</th>\n      <th>Algorithm</th>\n      <th>Filename</th>\n      <th>Cluster_index</th>\n      <th>Peptide</th>\n      <th>Unmodified_sequence</th>\n      <th>Charge</th>\n      <th>_dyn_#Intensity_for_cluster</th>\n      <th>_dyn_#Intensity_for_unmodified_sequence</th>\n      <th>...</th>\n      <th>PSP_site_match</th>\n      <th>DrugBank_drugs</th>\n      <th>Parent_mass</th>\n      <th>Num_PSP_Drugbank_events</th>\n      <th>Start_AA_1_based</th>\n      <th>End_AA_1_based</th>\n      <th>Num_spectra_for_cluster</th>\n      <th>Num_spectra_for_unmodified_sequence</th>\n      <th>Num_spectra_for_peptide_variant</th>\n      <th>Internal_ref_orig_intensity</th>\n    </tr>\n  </thead>\n  <tbody>\n    <tr>\n      <th>0</th>\n      <td>1</td>\n      <td>1</td>\n      <td>.MODA.</td>\n      <td>specs_ms.mgf</td>\n      <td>960991</td>\n      <td>K.[304.207]GARLIPEMDQIFTEVEMTTLE(K,304.207).V</td>\n      <td>.GARLIPEMDQIFTEVEMTTLEK.</td>\n      <td>4</td>\n      <td>36.905893</td>\n      <td>36.905893</td>\n      <td>...</td>\n      <td>NaN</td>\n      <td>NaN</td>\n      <td>1580.81</td>\n      <td>0</td>\n      <td>NaN</td>\n      <td>NaN</td>\n      <td>1</td>\n      <td>1</td>\n      <td>1</td>\n      <td>8.204159e+03</td>\n    </tr>\n    <tr>\n      <th>1</th>\n      <td>2</td>\n      <td>2</td>\n      <td>.MODA.</td>\n      <td>specs_ms.mgf</td>\n      <td>763982</td>\n      <td>I.[304.207]FTEVEMTTLE(K,304.207).V</td>\n      <td>.FTEVEMTTLEK.</td>\n      <td>3</td>\n      <td>11.686782</td>\n      <td>11.686782</td>\n      <td>...</td>\n      <td>NaN</td>\n      <td>NaN</td>\n      <td>1934.91</td>\n      <td>0</td>\n      <td>NaN</td>\n      <td>NaN</td>\n      <td>1</td>\n      <td>2</td>\n      <td>2</td>\n      <td>4.936894e+05</td>\n    </tr>\n    <tr>\n      <th>2</th>\n      <td>3</td>\n      <td>3</td>\n      <td>.MSGFPLUS.</td>\n      <td>specs_ms.mgf</td>\n      <td>902201</td>\n      <td>K.[304.207]LYQPEYQEVSTEEQR.E</td>\n      <td>.LYQPEYQEVSTEEQR.</td>\n      <td>3</td>\n      <td>15.690234</td>\n      <td>15.690234</td>\n      <td>...</td>\n      <td>NaN</td>\n      <td>NaN</td>\n      <td>2203.09</td>\n      <td>0</td>\n      <td>NaN</td>\n      <td>NaN</td>\n      <td>5</td>\n      <td>6</td>\n      <td>6</td>\n      <td>1.951566e+05</td>\n    </tr>\n    <tr>\n      <th>3</th>\n      <td>4</td>\n      <td>4</td>\n      <td>.MSGFPLUS.</td>\n      <td>specs_ms.mgf</td>\n      <td>935503</td>\n      <td>K.[304.207]AANSLEAFIFETQD(K,304.207).L</td>\n      <td>.AANSLEAFIFETQDK.</td>\n      <td>3</td>\n      <td>15.016824</td>\n      <td>15.016824</td>\n      <td>...</td>\n      <td>NaN</td>\n      <td>NaN</td>\n      <td>2292.24</td>\n      <td>0</td>\n      <td>NaN</td>\n      <td>NaN</td>\n      <td>3</td>\n      <td>4</td>\n      <td>4</td>\n      <td>2.877781e+06</td>\n    </tr>\n    <tr>\n      <th>4</th>\n      <td>5</td>\n      <td>5</td>\n      <td>.MODA.</td>\n      <td>specs_ms.mgf</td>\n      <td>297961</td>\n      <td>R.[304.207]YSHDF(N,-56.985)FH.I</td>\n      <td>.YSHDFNFH.</td>\n      <td>3</td>\n      <td>33.768015</td>\n      <td>33.768015</td>\n      <td>...</td>\n      <td>NaN</td>\n      <td>NaN</td>\n      <td>1313.66</td>\n      <td>0</td>\n      <td>NaN</td>\n      <td>NaN</td>\n      <td>3</td>\n      <td>3</td>\n      <td>3</td>\n      <td>7.088440e+04</td>\n    </tr>\n  </tbody>\n</table>\n<p>5 rows × 268 columns</p>\n</div>"
     },
     "execution_count": 3,
     "metadata": {},
     "output_type": "execute_result"
    }
   ],
   "source": [
    "variants.head()"
   ],
   "metadata": {
    "collapsed": false,
    "pycharm": {
     "name": "#%%\n"
    }
   }
  },
  {
   "cell_type": "code",
   "execution_count": 4,
   "outputs": [
    {
     "name": "stdout",
     "output_type": "stream",
     "text": [
      "Condition\n",
      "Non-severe-COVID-19         25\n",
      "Symptomatic-non-COVID-19    25\n",
      "Healthy                     22\n",
      "Severe-COVID-19             18\n",
      "Name: count, dtype: int64\n",
      "(90, 101462)\n"
     ]
    }
   ],
   "source": [
    "variants_processed = variants[\n",
    "    ['Peptide'] + [c for c in variants.columns if 'intensity_for_peptide_variant' in c]\n",
    "].copy()\n",
    "\n",
    "variants_processed.replace(0.0, np.nan, inplace=True)\n",
    "\n",
    "variants_processed = variants_processed.set_index('Peptide')\n",
    "\n",
    "variants_processed = variants_processed.T\n",
    "\n",
    "variants_processed.index = variants_processed.index.map(lambda x: '.'.join(x.split('.')[:2]))\n",
    "\n",
    "variants_processed['Condition'] = variants_processed.index.map(lambda x: x.split('.')[0][6:])\n",
    "\n",
    "variants_processed = variants_processed[(variants_processed['Condition'] == 'Non-severe-COVID-19')\\\n",
    "                                        | (variants_processed['Condition'] == 'Symptomatic-non-COVID-19')\\\n",
    "                                        | (variants_processed['Condition'] == 'Healthy')\\\n",
    "                                        | (variants_processed['Condition'] == 'Severe-COVID-19')]\n",
    "\n",
    "print(variants_processed['Condition'].value_counts())\n",
    "print(variants_processed.shape)"
   ],
   "metadata": {
    "collapsed": false,
    "pycharm": {
     "name": "#%%\n"
    }
   }
  },
  {
   "cell_type": "code",
   "execution_count": 5,
   "outputs": [],
   "source": [
    "# for col in variants_processed.columns:\n",
    "#     print(col, '$$$$', variants_processed[col].count(),'$$$$',  '[', variants_processed[col].min(), ',',variants_processed[col].max(), ']')"
   ],
   "metadata": {
    "collapsed": false,
    "pycharm": {
     "name": "#%%\n"
    }
   }
  },
  {
   "cell_type": "code",
   "execution_count": 6,
   "outputs": [
    {
     "data": {
      "text/plain": "Peptide             K.[304.207]GARLIPEMDQIFTEVEMTTLE(K,304.207).V   \n_dyn_#Healthy.HC1                                             NaN  \\\n_dyn_#Healthy.HC10                                       6.645649   \n_dyn_#Healthy.HC12                                       3.391896   \n_dyn_#Healthy.HC13                                       1.919552   \n_dyn_#Healthy.HC17                                            NaN   \n\nPeptide             I.[304.207]FTEVEMTTLE(K,304.207).V   \n_dyn_#Healthy.HC1                                  NaN  \\\n_dyn_#Healthy.HC10                                 NaN   \n_dyn_#Healthy.HC12                                 NaN   \n_dyn_#Healthy.HC13                                 NaN   \n_dyn_#Healthy.HC17                                 NaN   \n\nPeptide             K.[304.207]LYQPEYQEVSTEEQR.E   \n_dyn_#Healthy.HC1                       0.935916  \\\n_dyn_#Healthy.HC10                           NaN   \n_dyn_#Healthy.HC12                           NaN   \n_dyn_#Healthy.HC13                           NaN   \n_dyn_#Healthy.HC17                      0.286530   \n\nPeptide             K.[304.207]AANSLEAFIFETQD(K,304.207).L   \n_dyn_#Healthy.HC1                                      NaN  \\\n_dyn_#Healthy.HC10                                     NaN   \n_dyn_#Healthy.HC12                                     NaN   \n_dyn_#Healthy.HC13                                     NaN   \n_dyn_#Healthy.HC17                                1.259306   \n\nPeptide             R.[304.207]YSHDF(N,-56.985)FH.I   \n_dyn_#Healthy.HC1                               NaN  \\\n_dyn_#Healthy.HC10                              NaN   \n_dyn_#Healthy.HC12                              NaN   \n_dyn_#Healthy.HC13                              NaN   \n_dyn_#Healthy.HC17                              NaN   \n\nPeptide             R.[304.207](P,143.096)SV(C,57.021)REAGPQAHMQQVTSSL(K,304.207).G   \n_dyn_#Healthy.HC1                                                 NaN                \\\n_dyn_#Healthy.HC10                                                NaN                 \n_dyn_#Healthy.HC12                                                NaN                 \n_dyn_#Healthy.HC13                                                NaN                 \n_dyn_#Healthy.HC17                                                NaN                 \n\nPeptide             K.[304.207]QGSTGEEFHFQTGGR.D   \n_dyn_#Healthy.HC1                            NaN  \\\n_dyn_#Healthy.HC10                           NaN   \n_dyn_#Healthy.HC12                           NaN   \n_dyn_#Healthy.HC13                           NaN   \n_dyn_#Healthy.HC17                           NaN   \n\nPeptide             K.[304.207]HGTDDGVVW(M,15.995)NW(K,304.207).G   \n_dyn_#Healthy.HC1                                             NaN  \\\n_dyn_#Healthy.HC10                                            NaN   \n_dyn_#Healthy.HC12                                            NaN   \n_dyn_#Healthy.HC13                                            NaN   \n_dyn_#Healthy.HC17                                            NaN   \n\nPeptide             K.[304.207](H,100.027)GTDDGVVWMNW(K,304.207).G   \n_dyn_#Healthy.HC1                                              NaN  \\\n_dyn_#Healthy.HC10                                             NaN   \n_dyn_#Healthy.HC12                                             NaN   \n_dyn_#Healthy.HC13                                             NaN   \n_dyn_#Healthy.HC17                                             NaN   \n\nPeptide             K.[304.207]H(G,304.213)TDDGVVWMNW(K,304.207).G  ...   \n_dyn_#Healthy.HC1                                         0.288821  ...  \\\n_dyn_#Healthy.HC10                                        0.026024  ...   \n_dyn_#Healthy.HC12                                        0.009033  ...   \n_dyn_#Healthy.HC13                                        0.028415  ...   \n_dyn_#Healthy.HC17                                             NaN  ...   \n\nPeptide             K.[304.207]YLGEE(Y,-57.005)V(K,304.207).A   \n_dyn_#Healthy.HC1                                    1.958825  \\\n_dyn_#Healthy.HC10                                   2.544654   \n_dyn_#Healthy.HC12                                   0.913199   \n_dyn_#Healthy.HC13                                   1.035449   \n_dyn_#Healthy.HC17                                   0.110892   \n\nPeptide             K.[304.207]YLGEE(Y,-58.064)V(K,304.207).A   \n_dyn_#Healthy.HC1                                         NaN  \\\n_dyn_#Healthy.HC10                                        NaN   \n_dyn_#Healthy.HC12                                        NaN   \n_dyn_#Healthy.HC13                                        NaN   \n_dyn_#Healthy.HC17                                    0.81455   \n\nPeptide             K.[304.207]YLGEE(Y,-60.599)V(K,304.207).A   \n_dyn_#Healthy.HC1                                         NaN  \\\n_dyn_#Healthy.HC10                                        NaN   \n_dyn_#Healthy.HC12                                        NaN   \n_dyn_#Healthy.HC13                                        NaN   \n_dyn_#Healthy.HC17                                   0.863862   \n\nPeptide             K.[304.207]YLGEE(Y,-63.608)V(K,304.207).A   \n_dyn_#Healthy.HC1                                    1.174198  \\\n_dyn_#Healthy.HC10                                        NaN   \n_dyn_#Healthy.HC12                                        NaN   \n_dyn_#Healthy.HC13                                        NaN   \n_dyn_#Healthy.HC17                                        NaN   \n\nPeptide             K.[304.207]YLGE(E,-68.078)YV(K,304.207).A   \n_dyn_#Healthy.HC1                                         NaN  \\\n_dyn_#Healthy.HC10                                        NaN   \n_dyn_#Healthy.HC12                                        NaN   \n_dyn_#Healthy.HC13                                        NaN   \n_dyn_#Healthy.HC17                                        NaN   \n\nPeptide             K.[304.207]YL(G,55.921)EEYV(K,304.207).A   \n_dyn_#Healthy.HC1                                        NaN  \\\n_dyn_#Healthy.HC10                                       NaN   \n_dyn_#Healthy.HC12                                       NaN   \n_dyn_#Healthy.HC13                                       NaN   \n_dyn_#Healthy.HC17                                       NaN   \n\nPeptide             K.{187.018}[304.207]YLGEEYV(K,304.207).A   \n_dyn_#Healthy.HC1                                        NaN  \\\n_dyn_#Healthy.HC10                                       NaN   \n_dyn_#Healthy.HC12                                       NaN   \n_dyn_#Healthy.HC13                                       NaN   \n_dyn_#Healthy.HC17                                       NaN   \n\nPeptide             R.[304.207]NTYE(K,361.237)YLGEEYV(K,304.207).A   \n_dyn_#Healthy.HC1                                         0.370040  \\\n_dyn_#Healthy.HC10                                             NaN   \n_dyn_#Healthy.HC12                                             NaN   \n_dyn_#Healthy.HC13                                             NaN   \n_dyn_#Healthy.HC17                                        0.791905   \n\nPeptide             K.[304.207]YLGE(E,125.898)YV(K,304.207).A  Condition  \n_dyn_#Healthy.HC1                                         NaN    Healthy  \n_dyn_#Healthy.HC10                                        NaN    Healthy  \n_dyn_#Healthy.HC12                                        NaN    Healthy  \n_dyn_#Healthy.HC13                                        NaN    Healthy  \n_dyn_#Healthy.HC17                                        NaN    Healthy  \n\n[5 rows x 101462 columns]",
      "text/html": "<div>\n<style scoped>\n    .dataframe tbody tr th:only-of-type {\n        vertical-align: middle;\n    }\n\n    .dataframe tbody tr th {\n        vertical-align: top;\n    }\n\n    .dataframe thead th {\n        text-align: right;\n    }\n</style>\n<table border=\"1\" class=\"dataframe\">\n  <thead>\n    <tr style=\"text-align: right;\">\n      <th>Peptide</th>\n      <th>K.[304.207]GARLIPEMDQIFTEVEMTTLE(K,304.207).V</th>\n      <th>I.[304.207]FTEVEMTTLE(K,304.207).V</th>\n      <th>K.[304.207]LYQPEYQEVSTEEQR.E</th>\n      <th>K.[304.207]AANSLEAFIFETQD(K,304.207).L</th>\n      <th>R.[304.207]YSHDF(N,-56.985)FH.I</th>\n      <th>R.[304.207](P,143.096)SV(C,57.021)REAGPQAHMQQVTSSL(K,304.207).G</th>\n      <th>K.[304.207]QGSTGEEFHFQTGGR.D</th>\n      <th>K.[304.207]HGTDDGVVW(M,15.995)NW(K,304.207).G</th>\n      <th>K.[304.207](H,100.027)GTDDGVVWMNW(K,304.207).G</th>\n      <th>K.[304.207]H(G,304.213)TDDGVVWMNW(K,304.207).G</th>\n      <th>...</th>\n      <th>K.[304.207]YLGEE(Y,-57.005)V(K,304.207).A</th>\n      <th>K.[304.207]YLGEE(Y,-58.064)V(K,304.207).A</th>\n      <th>K.[304.207]YLGEE(Y,-60.599)V(K,304.207).A</th>\n      <th>K.[304.207]YLGEE(Y,-63.608)V(K,304.207).A</th>\n      <th>K.[304.207]YLGE(E,-68.078)YV(K,304.207).A</th>\n      <th>K.[304.207]YL(G,55.921)EEYV(K,304.207).A</th>\n      <th>K.{187.018}[304.207]YLGEEYV(K,304.207).A</th>\n      <th>R.[304.207]NTYE(K,361.237)YLGEEYV(K,304.207).A</th>\n      <th>K.[304.207]YLGE(E,125.898)YV(K,304.207).A</th>\n      <th>Condition</th>\n    </tr>\n  </thead>\n  <tbody>\n    <tr>\n      <th>_dyn_#Healthy.HC1</th>\n      <td>NaN</td>\n      <td>NaN</td>\n      <td>0.935916</td>\n      <td>NaN</td>\n      <td>NaN</td>\n      <td>NaN</td>\n      <td>NaN</td>\n      <td>NaN</td>\n      <td>NaN</td>\n      <td>0.288821</td>\n      <td>...</td>\n      <td>1.958825</td>\n      <td>NaN</td>\n      <td>NaN</td>\n      <td>1.174198</td>\n      <td>NaN</td>\n      <td>NaN</td>\n      <td>NaN</td>\n      <td>0.370040</td>\n      <td>NaN</td>\n      <td>Healthy</td>\n    </tr>\n    <tr>\n      <th>_dyn_#Healthy.HC10</th>\n      <td>6.645649</td>\n      <td>NaN</td>\n      <td>NaN</td>\n      <td>NaN</td>\n      <td>NaN</td>\n      <td>NaN</td>\n      <td>NaN</td>\n      <td>NaN</td>\n      <td>NaN</td>\n      <td>0.026024</td>\n      <td>...</td>\n      <td>2.544654</td>\n      <td>NaN</td>\n      <td>NaN</td>\n      <td>NaN</td>\n      <td>NaN</td>\n      <td>NaN</td>\n      <td>NaN</td>\n      <td>NaN</td>\n      <td>NaN</td>\n      <td>Healthy</td>\n    </tr>\n    <tr>\n      <th>_dyn_#Healthy.HC12</th>\n      <td>3.391896</td>\n      <td>NaN</td>\n      <td>NaN</td>\n      <td>NaN</td>\n      <td>NaN</td>\n      <td>NaN</td>\n      <td>NaN</td>\n      <td>NaN</td>\n      <td>NaN</td>\n      <td>0.009033</td>\n      <td>...</td>\n      <td>0.913199</td>\n      <td>NaN</td>\n      <td>NaN</td>\n      <td>NaN</td>\n      <td>NaN</td>\n      <td>NaN</td>\n      <td>NaN</td>\n      <td>NaN</td>\n      <td>NaN</td>\n      <td>Healthy</td>\n    </tr>\n    <tr>\n      <th>_dyn_#Healthy.HC13</th>\n      <td>1.919552</td>\n      <td>NaN</td>\n      <td>NaN</td>\n      <td>NaN</td>\n      <td>NaN</td>\n      <td>NaN</td>\n      <td>NaN</td>\n      <td>NaN</td>\n      <td>NaN</td>\n      <td>0.028415</td>\n      <td>...</td>\n      <td>1.035449</td>\n      <td>NaN</td>\n      <td>NaN</td>\n      <td>NaN</td>\n      <td>NaN</td>\n      <td>NaN</td>\n      <td>NaN</td>\n      <td>NaN</td>\n      <td>NaN</td>\n      <td>Healthy</td>\n    </tr>\n    <tr>\n      <th>_dyn_#Healthy.HC17</th>\n      <td>NaN</td>\n      <td>NaN</td>\n      <td>0.286530</td>\n      <td>1.259306</td>\n      <td>NaN</td>\n      <td>NaN</td>\n      <td>NaN</td>\n      <td>NaN</td>\n      <td>NaN</td>\n      <td>NaN</td>\n      <td>...</td>\n      <td>0.110892</td>\n      <td>0.81455</td>\n      <td>0.863862</td>\n      <td>NaN</td>\n      <td>NaN</td>\n      <td>NaN</td>\n      <td>NaN</td>\n      <td>0.791905</td>\n      <td>NaN</td>\n      <td>Healthy</td>\n    </tr>\n  </tbody>\n</table>\n<p>5 rows × 101462 columns</p>\n</div>"
     },
     "execution_count": 6,
     "metadata": {},
     "output_type": "execute_result"
    }
   ],
   "source": [
    "variants_processed.head(5)"
   ],
   "metadata": {
    "collapsed": false,
    "pycharm": {
     "name": "#%%\n"
    }
   }
  },
  {
   "cell_type": "code",
   "execution_count": 7,
   "outputs": [
    {
     "name": "stdout",
     "output_type": "stream",
     "text": [
      "(90, 101461)\n",
      "(90,)\n"
     ]
    }
   ],
   "source": [
    "X = variants_processed.iloc[:, :-1].to_numpy()\n",
    "labels, Y = np.unique(variants_processed.iloc[:, -1].to_numpy(), return_inverse=True)\n",
    "print(X.shape)\n",
    "print(Y.shape)"
   ],
   "metadata": {
    "collapsed": false,
    "pycharm": {
     "name": "#%%\n"
    }
   }
  },
  {
   "cell_type": "code",
   "execution_count": 8,
   "outputs": [
    {
     "name": "stdout",
     "output_type": "stream",
     "text": [
      "[[       nan        nan 0.93591588 ...        nan 0.37003983        nan]\n",
      " [6.64564884        nan        nan ...        nan        nan        nan]\n",
      " [3.39189595        nan        nan ...        nan        nan        nan]\n",
      " [1.91955205        nan        nan ...        nan        nan        nan]\n",
      " [       nan        nan 0.28653002 ...        nan 0.79190531        nan]]\n",
      "[0 0 0 0 0 0 0 0 0 0 0 0 0 0 0 0 0 0 0 0 0 0 1 1 1 1 1 1 1 1 1 1 1 1 1 1 1\n",
      " 1 1 1 1 1 1 1 1 1 1 2 2 2 2 2 2 2 2 2 2 2 2 2 2 2 2 2 2 3 3 3 3 3 3 3 3 3\n",
      " 3 3 3 3 3 3 3 3 3 3 3 3 3 3 3 3]\n"
     ]
    }
   ],
   "source": [
    "print(X[:5])\n",
    "print(Y)"
   ],
   "metadata": {
    "collapsed": false,
    "pycharm": {
     "name": "#%%\n"
    }
   }
  },
  {
   "cell_type": "code",
   "execution_count": 9,
   "outputs": [],
   "source": [
    "X_train, X_test, y_train, y_test = train_test_split(X, Y, test_size=0.2, random_state=42, stratify=Y)"
   ],
   "metadata": {
    "collapsed": false,
    "pycharm": {
     "name": "#%%\n"
    }
   }
  },
  {
   "cell_type": "code",
   "execution_count": 10,
   "outputs": [
    {
     "name": "stdout",
     "output_type": "stream",
     "text": [
      "(72, 101461) (18, 101461)\n",
      "[2 3 1 1 1 2 0 2 0 3 3 0 3 2 0 1 1 0 3 1 1 0 0 1 3 2 2 3 2 1 3 1 0 0 3 3 2\n",
      " 1 1 3 1 3 1 3 1 0 3 3 0 1 3 2 2 0 1 3 1 3 0 2 0 1 0 2 0 0 3 2 0 1 2 3] [3 1 0 0 1 3 0 3 2 1 1 2 2 3 0 3 2 1]\n"
     ]
    }
   ],
   "source": [
    "print(X_train.shape, X_test.shape)\n",
    "print(y_train, y_test)"
   ],
   "metadata": {
    "collapsed": false,
    "pycharm": {
     "name": "#%%\n"
    }
   }
  },
  {
   "cell_type": "code",
   "execution_count": 11,
   "outputs": [
    {
     "name": "stdout",
     "output_type": "stream",
     "text": [
      "[66120. 56135. 67715. 66306. 56229. 67592. 56238. 59893. 59921. 56206.\n",
      " 65190. 59815. 56168. 65170. 58912. 66120. 65179. 64835. 59109. 57137.\n",
      " 56084. 67616. 56250. 65108. 66043. 57010. 58863. 67731. 33313. 58969.\n",
      " 56035. 57049. 58934. 67500. 46053. 59088. 66158. 59907. 66244. 57197.\n",
      " 59934. 58803. 59950. 66100. 59002. 66190. 56909. 67624. 66133. 65240.\n",
      " 56049. 56926. 66146. 56142. 57030. 67564. 59009. 59898. 41778. 58860.\n",
      " 67515. 56238. 56950. 56056. 56127. 65109. 59810. 56211. 65103. 56281.\n",
      " 56207. 56990.]\n",
      "33313.0 67731.0 60069.805555555555 59048.5\n"
     ]
    }
   ],
   "source": [
    "valid_per_sample = np.zeros(X_train.shape[0])\n",
    "for i in range(X_train.shape[0]):\n",
    "    valid_per_sample[i] = np.count_nonzero(~np.isnan(X_train[i]))\n",
    "valid_per_sample = X_train.shape[1] - valid_per_sample\n",
    "print(valid_per_sample)\n",
    "print(np.min(valid_per_sample), np.max(valid_per_sample), np.mean(valid_per_sample), np.median(valid_per_sample))"
   ],
   "metadata": {
    "collapsed": false,
    "pycharm": {
     "name": "#%%\n"
    }
   }
  },
  {
   "cell_type": "code",
   "execution_count": 12,
   "outputs": [
    {
     "name": "stdout",
     "output_type": "stream",
     "text": [
      "[64. 61. 25. ... 52. 46. 53.]\n",
      "0.0 72.0 42.62747262494949 53.0\n"
     ]
    }
   ],
   "source": [
    "valid_per_feature = np.zeros(X_train.shape[1])\n",
    "for i in range(X_train.shape[1]):\n",
    "    valid_per_feature[i] = np.count_nonzero(~np.isnan(X_train[:, i]))\n",
    "valid_per_feature = X_train.shape[0] - valid_per_feature\n",
    "print(valid_per_feature)\n",
    "print(np.min(valid_per_feature), np.max(valid_per_feature), np.mean(valid_per_feature), np.median(valid_per_feature))"
   ],
   "metadata": {
    "collapsed": false,
    "pycharm": {
     "name": "#%%\n"
    }
   }
  },
  {
   "cell_type": "code",
   "execution_count": 13,
   "outputs": [
    {
     "data": {
      "text/plain": "array([[        nan, -0.85755533, -0.3811363 , ...,         nan,\n                nan,         nan],\n       [        nan,         nan,  2.62295481, ...,         nan,\n        -0.54622186,         nan],\n       [        nan,         nan,         nan, ..., -0.91798291,\n                nan, -0.79241789],\n       ...,\n       [        nan,         nan, -0.19347276, ...,         nan,\n        -0.5285681 ,         nan],\n       [        nan,         nan,  0.68180655, ...,         nan,\n        -0.25351343,         nan],\n       [        nan,         nan,         nan, ...,         nan,\n                nan,  0.25227816]])"
     },
     "execution_count": 13,
     "metadata": {},
     "output_type": "execute_result"
    }
   ],
   "source": [
    "X_train_normalized = stats.zscore(X_train, nan_policy='omit')\n",
    "X_train_normalized"
   ],
   "metadata": {
    "collapsed": false,
    "pycharm": {
     "name": "#%%\n"
    }
   }
  },
  {
   "cell_type": "code",
   "execution_count": 14,
   "outputs": [
    {
     "data": {
      "text/plain": "array([[-0.4203426 , -0.85755533, -0.3811363 , ..., -0.89175026,\n         0.12673614, -0.76335994],\n       [-0.04935335,  0.14508982,  2.62295481, ..., -0.55211438,\n        -0.54622186, -0.82683088],\n       [-0.27264962, -1.04228745, -0.4809648 , ..., -0.91798291,\n        -0.12186765, -0.79241789],\n       ...,\n       [ 0.39692085, -0.24125504, -0.19347276, ...,  0.07586786,\n        -0.5285681 , -0.48023079],\n       [-0.04935335,  0.33868829,  0.68180655, ...,  0.04874033,\n        -0.25351343, -0.4764932 ],\n       [-0.14937939,  0.33868829, -0.7236341 , ...,  0.07586786,\n        -0.44974761,  0.25227816]])"
     },
     "execution_count": 14,
     "metadata": {},
     "output_type": "execute_result"
    }
   ],
   "source": [
    "imputer = KNNImputer(n_neighbors=2)\n",
    "X_knn = imputer.fit_transform(X_train_normalized)\n",
    "X_knn"
   ],
   "metadata": {
    "collapsed": false,
    "pycharm": {
     "name": "#%%\n"
    }
   }
  },
  {
   "cell_type": "code",
   "execution_count": 14,
   "outputs": [],
   "source": [],
   "metadata": {
    "collapsed": false,
    "pycharm": {
     "name": "#%%\n"
    }
   }
  }
 ],
 "metadata": {
  "kernelspec": {
   "display_name": "Python 3 (ipykernel)",
   "language": "python",
   "name": "python3"
  },
  "language_info": {
   "codemirror_mode": {
    "name": "ipython",
    "version": 3
   },
   "file_extension": ".py",
   "mimetype": "text/x-python",
   "name": "python",
   "nbconvert_exporter": "python",
   "pygments_lexer": "ipython3",
   "version": "3.10.10"
  }
 },
 "nbformat": 4,
 "nbformat_minor": 1
}