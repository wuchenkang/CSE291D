{
 "cells": [
  {
   "attachments": {},
   "cell_type": "markdown",
   "metadata": {
    "pycharm": {
     "name": "#%% md\n"
    }
   },
   "source": [
    "# Classification problem of severe COVID-19 patients"
   ]
  },
  {
   "attachments": {},
   "cell_type": "markdown",
   "metadata": {
    "pycharm": {
     "name": "#%% md\n"
    }
   },
   "source": [
    "## Library import"
   ]
  },
  {
   "cell_type": "code",
   "execution_count": null,
   "metadata": {
    "collapsed": false,
    "pycharm": {
     "name": "#%%\n"
    }
   },
   "outputs": [],
   "source": [
    "%matplotlib inline\n",
    "\n",
    "import pandas as pd\n",
    "import seaborn as sns\n",
    "import numpy as np\n",
    "from matplotlib import pyplot as plt\n",
    "from scipy import stats\n",
    "\n",
    "from sklearn.model_selection import StratifiedShuffleSplit\n",
    "from sklearn.experimental import enable_iterative_imputer\n",
    "from sklearn.impute import KNNImputer, IterativeImputer"
   ]
  },
  {
   "cell_type": "code",
   "execution_count": null,
   "metadata": {
    "collapsed": false,
    "pycharm": {
     "name": "#%%\n"
    }
   },
   "outputs": [],
   "source": [
    "INPUT_MAESTRO_DATA = \"data/MAESTRO-d6178bdd-identified_variants_merged_protein_regions-main.tsv\"\n",
    "variants = pd.read_csv(INPUT_MAESTRO_DATA, sep='\\t', low_memory=False)"
   ]
  },
  {
   "cell_type": "code",
   "execution_count": null,
   "metadata": {
    "collapsed": false,
    "pycharm": {
     "name": "#%%\n"
    }
   },
   "outputs": [],
   "source": [
    "variants.head()"
   ]
  },
  {
   "cell_type": "code",
   "execution_count": null,
   "metadata": {
    "collapsed": false,
    "pycharm": {
     "name": "#%%\n"
    }
   },
   "outputs": [],
   "source": [
    "variants_processed = variants[\n",
    "    ['Peptide'] + [c for c in variants.columns if 'intensity_for_peptide_variant' in c]\n",
    "].copy()\n",
    "\n",
    "variants_processed.replace(0.0, np.nan, inplace=True)\n",
    "\n",
    "variants_processed = variants_processed.set_index('Peptide')\n",
    "\n",
    "variants_processed = variants_processed.T\n",
    "\n",
    "variants_processed.index = variants_processed.index.map(lambda x: '.'.join(x.split('.')[:2]))\n",
    "\n",
    "variants_processed['Condition'] = variants_processed.index.map(lambda x: x.split('.')[0][6:])\n",
    "\n",
    "variants_processed = variants_processed[(variants_processed['Condition'] == 'Non-severe-COVID-19')\\\n",
    "                                        | (variants_processed['Condition'] == 'Symptomatic-non-COVID-19')\\\n",
    "                                        | (variants_processed['Condition'] == 'Healthy')\\\n",
    "                                        | (variants_processed['Condition'] == 'Severe-COVID-19')]\n",
    "\n",
    "print(variants_processed['Condition'].value_counts())\n",
    "print(variants_processed.shape)"
   ]
  },
  {
   "cell_type": "code",
   "execution_count": null,
   "metadata": {
    "collapsed": false,
    "pycharm": {
     "name": "#%%\n"
    }
   },
   "outputs": [],
   "source": [
    "# for col in variants_processed.columns:\n",
    "#     print(col, '$$$$', variants_processed[col].count(),'$$$$',  '[', variants_processed[col].min(), ',',variants_processed[col].max(), ']')"
   ]
  },
  {
   "cell_type": "code",
   "execution_count": null,
   "metadata": {
    "collapsed": false,
    "pycharm": {
     "name": "#%%\n"
    }
   },
   "outputs": [],
   "source": [
    "variants_processed.head(5)"
   ]
  },
  {
   "cell_type": "code",
   "execution_count": null,
   "metadata": {
    "collapsed": false,
    "pycharm": {
     "name": "#%%\n"
    }
   },
   "outputs": [],
   "source": [
    "X = variants_processed.iloc[:, :-1].to_numpy()\n",
    "labels, Y = np.unique(variants_processed.iloc[:, -1].to_numpy(), return_inverse=True)\n",
    "print(X.shape)\n",
    "print(Y.shape)"
   ]
  },
  {
   "cell_type": "code",
   "execution_count": null,
   "metadata": {
    "collapsed": false,
    "pycharm": {
     "name": "#%%\n"
    }
   },
   "outputs": [],
   "source": [
    "print(X[:5])\n",
    "print(Y)"
   ]
  },
  {
   "cell_type": "code",
   "execution_count": null,
   "metadata": {},
   "outputs": [],
   "source": [
    "spliter = StratifiedShuffleSplit(n_splits=5, random_state=42)\n",
    "X_folded = []\n",
    "Y_folded = []\n",
    "for train_index, test_index in StratifiedShuffleSplit.split(X, Y):\n",
    "    X_folded.append(X[train_index], X[test_index])\n",
    "    Y_folded.append(Y[train_index], Y[test_index])"
   ]
  },
  {
   "cell_type": "code",
   "execution_count": null,
   "metadata": {
    "collapsed": false,
    "pycharm": {
     "name": "#%%\n"
    }
   },
   "outputs": [],
   "source": [
    "valid_per_sample = np.zeros(X.shape[0])\n",
    "for i in range(X.shape[0]):\n",
    "    valid_per_sample[i] = np.count_nonzero(~np.isnan(X[i]))\n",
    "valid_per_sample = X.shape[1] - valid_per_sample\n",
    "print(valid_per_sample)\n",
    "print(np.min(valid_per_sample), np.max(valid_per_sample), np.mean(valid_per_sample), np.median(valid_per_sample))"
   ]
  },
  {
   "cell_type": "code",
   "execution_count": null,
   "metadata": {
    "collapsed": false,
    "pycharm": {
     "name": "#%%\n"
    }
   },
   "outputs": [],
   "source": [
    "valid_per_feature = np.zeros(X.shape[1])\n",
    "for i in range(X.shape[1]):\n",
    "    valid_per_feature[i] = np.count_nonzero(~np.isnan(X[:, i]))\n",
    "valid_per_feature = X.shape[0] - valid_per_feature\n",
    "print(valid_per_feature)\n",
    "print(np.min(valid_per_feature), np.max(valid_per_feature), np.mean(valid_per_feature), np.median(valid_per_feature))"
   ]
  },
  {
   "cell_type": "code",
   "execution_count": null,
   "metadata": {
    "collapsed": false,
    "pycharm": {
     "name": "#%%\n"
    }
   },
   "outputs": [],
   "source": [
    "X_normalized = stats.zscore(X, nan_policy='omit')\n",
    "X_normalized"
   ]
  },
  {
   "cell_type": "code",
   "execution_count": null,
   "metadata": {
    "collapsed": false,
    "pycharm": {
     "name": "#%%\n"
    }
   },
   "outputs": [],
   "source": [
    "imputer = KNNImputer(n_neighbors=2)\n",
    "X_knn = imputer.fit_transform(X_normalized)\n",
    "X_knn"
   ]
  },
  {
   "cell_type": "code",
   "execution_count": null,
   "metadata": {
    "collapsed": false,
    "pycharm": {
     "name": "#%%\n"
    }
   },
   "outputs": [],
   "source": [
    "# imputer = IterativeImputer(random_state=42)\n",
    "# X_iter = imputer.fit_transform(X_normalized)\n",
    "# X_iter"
   ]
  },
  {
   "cell_type": "code",
   "execution_count": null,
   "metadata": {
    "collapsed": false,
    "pycharm": {
     "name": "#%%\n"
    }
   },
   "outputs": [],
   "source": []
  },
  {
   "cell_type": "code",
   "execution_count": null,
   "metadata": {},
   "outputs": [],
   "source": []
  }
 ],
 "metadata": {
  "kernelspec": {
   "display_name": "Python 3 (ipykernel)",
   "language": "python",
   "name": "python3"
  },
  "language_info": {
   "codemirror_mode": {
    "name": "ipython",
    "version": 3
   },
   "file_extension": ".py",
   "mimetype": "text/x-python",
   "name": "python",
   "nbconvert_exporter": "python",
   "pygments_lexer": "ipython3",
   "version": "3.10.10"
  }
 },
 "nbformat": 4,
 "nbformat_minor": 1
}
